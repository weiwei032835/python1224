{
  "nbformat": 4,
  "nbformat_minor": 0,
  "metadata": {
    "colab": {
      "provenance": [],
      "authorship_tag": "ABX9TyOeBBmB/QrdlNiz+JCfeZ0O",
      "include_colab_link": true
    },
    "kernelspec": {
      "name": "python3",
      "display_name": "Python 3"
    },
    "language_info": {
      "name": "python"
    }
  },
  "cells": [
    {
      "cell_type": "markdown",
      "metadata": {
        "id": "view-in-github",
        "colab_type": "text"
      },
      "source": [
        "<a href=\"https://colab.research.google.com/github/weiwei032835/python1224/blob/master/1224_02.ipynb\" target=\"_parent\"><img src=\"https://colab.research.google.com/assets/colab-badge.svg\" alt=\"Open In Colab\"/></a>"
      ]
    },
    {
      "cell_type": "code",
      "execution_count": null,
      "metadata": {
        "id": "VAUrrw8Glrju"
      },
      "outputs": [],
      "source": []
    },
    {
      "cell_type": "markdown",
      "source": [
        "1. 環境設置\n",
        "   a. 本地環境:\n",
        "        a.1. 翻譯器: python 3.x\n",
        "        a.2. 輔助工具: Pycharm/VSCode\n",
        "Anaconda(X): 大集合\n",
        "   b. 線上環境:\n",
        "        b.1. repl.it\n",
        "        b.2. colab\n",
        "\n",
        "2. 一個完整的python程式就是.py檔案\n",
        "   從第一行執行到最後一行\n",
        "\n",
        "   colab她不能說是一個完整的python檔案\n",
        "   她是一個練習簿的感覺 你可以執行幾行\n",
        "   看一下結果 再執行幾行 以.ipynb結尾\n",
        "   (使用的是python套件 jupyter notebook)\n",
        "第一個程式: bmi程式\n",
        "1. 可以讓使用者自由輸入她的身高體重\n",
        "2. 幫他計算bmi\n",
        "3. 給他點bmi建議\n",
        "\n",
        "\n",
        "1. 註解: 影響\"可讀性\"的一個重要要素\n",
        "  # xxxxx\n",
        "\n",
        "2. 功能: 參數 print(參數)\n",
        "  !!! 就算沒有參數, 也要有小括號 xxx()\n",
        "\n",
        "3. 排版也是影響\"可讀性\"很重要的要素\n",
        "  !!! \\控一格...\n",
        "  !!! 可以參考 pep coding style\n",
        "\n",
        "4. 不要重複寫: =\n",
        "  a. 5 == 3 + 2(左右是否相等?)\n",
        "  b. x = 3(取替)"
      ],
      "metadata": {
        "id": "MdVk70h7l0GB"
      }
    },
    {
      "cell_type": "code",
      "source": [
        "# bmi = weight(kg)/height(m)^2\n",
        "weight = float(input(\"請輸入體重\"))\n",
        "height = float(input(\"請輸入高度\"))\n",
        "bmi = weight/(height/100) ** 2\n",
        "print(\"你的體重是:\"+ str(weight))\n",
        "print(\"你的高度是:\"+ str(height))\n",
        "print(\"bmi是:\"+ str(bmi))\n",
        "\n",
        "if bmi > 25:\n",
        "  print(\"過重\")\n",
        "  print(\"少吃多動\")\n",
        "else:\n",
        "  print(\"正常\")\n"
      ],
      "metadata": {
        "colab": {
          "base_uri": "https://localhost:8080/"
        },
        "id": "zVsje9WdnEjt",
        "outputId": "91b02fba-8c95-4aa2-95b3-196a4a43cf06"
      },
      "execution_count": 11,
      "outputs": [
        {
          "output_type": "stream",
          "name": "stdout",
          "text": [
            "請輸入體重56\n",
            "請輸入高度156\n",
            "你的體重是:56.0\n",
            "你的高度是:156.0\n",
            "bmi是:23.011176857330703\n",
            "正常\n"
          ]
        }
      ]
    },
    {
      "cell_type": "code",
      "source": [
        "a = 3.6\n",
        "b = int(a)\n",
        "print(a)\n",
        "print(b)"
      ],
      "metadata": {
        "colab": {
          "base_uri": "https://localhost:8080/"
        },
        "id": "hKJY6ylMvAqG",
        "outputId": "be4cbf23-4c19-4c53-81ce-d7fa5142582d"
      },
      "execution_count": 10,
      "outputs": [
        {
          "output_type": "stream",
          "name": "stdout",
          "text": [
            "3.6\n",
            "3\n"
          ]
        }
      ]
    },
    {
      "cell_type": "code",
      "source": [],
      "metadata": {
        "id": "qpeUSZqvQOig"
      },
      "execution_count": null,
      "outputs": []
    }
  ]
}